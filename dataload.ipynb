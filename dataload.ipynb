{
 "cells": [
  {
   "cell_type": "code",
   "execution_count": 1,
   "metadata": {},
   "outputs": [],
   "source": [
    "import numpy as np\n",
    "from dataload import Dataload\n",
    "from model import Model"
   ]
  },
  {
   "cell_type": "code",
   "execution_count": 2,
   "metadata": {},
   "outputs": [
    {
     "data": {
      "text/plain": [
       "(10, 20, 5)"
      ]
     },
     "execution_count": 2,
     "metadata": {},
     "output_type": "execute_result"
    }
   ],
   "source": [
    "instance = Dataload(\"./data/\")\n",
    "nums_sys, nums_equip, nums_crews, dep = instance.get_size(\"size.txt\")\n",
    "coordinates = instance.get_coordinates(\"The_coordinates_of_the_node.txt\")\n",
    "sys_cps = instance.get_systemcomposition(\"The_composition_of_the_system_unit .txt\")\n",
    "cap = instance.get_capabilities(\"The_capabilities_of_the_system.txt\")\n",
    "repair_time = instance.get_repairtime(\"The_repair_time_of_equipment.txt\")\n",
    "Time = 180\n",
    "(nums_sys, nums_equip, nums_crews)\n"
   ]
  },
  {
   "cell_type": "code",
   "execution_count": 3,
   "metadata": {},
   "outputs": [
    {
     "name": "stdout",
     "output_type": "stream",
     "text": [
      "Set parameter Username\n",
      "Academic license - for non-commercial use only - expires 2023-09-15\n"
     ]
    }
   ],
   "source": [
    "epot = Model(nums_sys, nums_equip, nums_crews, dep, coordinates, sys_cps, cap, repair_time, Time)"
   ]
  },
  {
   "cell_type": "code",
   "execution_count": 4,
   "metadata": {},
   "outputs": [
    {
     "data": {
      "text/plain": [
       "[[0, 1, 2, 3, 4, 19],\n",
       " [3, 4, 19],\n",
       " [5, 6, 7, 19],\n",
       " [8, 19],\n",
       " [8, 9, 10, 11, 12, 19],\n",
       " [8, 13, 14, 19],\n",
       " [14, 15, 19],\n",
       " [16, 19],\n",
       " [17, 18, 19],\n",
       " [19]]"
      ]
     },
     "execution_count": 4,
     "metadata": {},
     "output_type": "execute_result"
    }
   ],
   "source": [
    "sys_cps "
   ]
  },
  {
   "cell_type": "code",
   "execution_count": 5,
   "metadata": {},
   "outputs": [
    {
     "name": "stdout",
     "output_type": "stream",
     "text": [
      "Gurobi Optimizer version 9.5.2 build v9.5.2rc0 (mac64[rosetta2])\n",
      "Thread count: 8 physical cores, 8 logical processors, using up to 8 threads\n",
      "Optimize a model with 2204 rows, 730 columns and 7488 nonzeros\n",
      "Model fingerprint: 0x61485e66\n",
      "Model has 106 quadratic objective terms\n",
      "Variable types: 0 continuous, 730 integer (730 binary)\n",
      "Coefficient statistics:\n",
      "  Matrix range     [1e+00, 1e+00]\n",
      "  Objective range  [1e+01, 3e+02]\n",
      "  QObjective range [4e+00, 3e+02]\n",
      "  Bounds range     [1e+00, 1e+00]\n",
      "  RHS range        [1e+00, 1e+00]\n",
      "Found heuristic solution: objective -0.0000000\n",
      "Presolve removed 7 rows and 22 columns\n",
      "Presolve time: 0.01s\n",
      "Presolved: 2273 rows, 784 columns, 7702 nonzeros\n",
      "Found heuristic solution: objective 221.0000000\n",
      "Variable types: 0 continuous, 784 integer (784 binary)\n",
      "\n",
      "Root relaxation: objective 1.138000e+03, 181 iterations, 0.00 seconds (0.00 work units)\n",
      "\n",
      "    Nodes    |    Current Node    |     Objective Bounds      |     Work\n",
      " Expl Unexpl |  Obj  Depth IntInf | Incumbent    BestBd   Gap | It/Node Time\n",
      "\n",
      "H    0     0                    1138.0000000 1138.00000  0.00%     -    0s\n",
      "     0     0 1138.00000    0   10 1138.00000 1138.00000  0.00%     -    0s\n",
      "\n",
      "Explored 1 nodes (181 simplex iterations) in 0.03 seconds (0.02 work units)\n",
      "Thread count was 8 (of 8 available processors)\n",
      "\n",
      "Solution count 3: 1138 221 -0 \n",
      "\n",
      "Optimal solution found (tolerance 1.00e-04)\n",
      "Best objective 1.138000000000e+03, best bound 1.138000000000e+03, gap 0.0000%\n"
     ]
    }
   ],
   "source": [
    "epot.set_variables()\n",
    "epot.set_objective()\n",
    "epot.set_constraints()\n",
    "epot.to_optimize()"
   ]
  },
  {
   "cell_type": "code",
   "execution_count": null,
   "metadata": {},
   "outputs": [],
   "source": []
  },
  {
   "cell_type": "code",
   "execution_count": null,
   "metadata": {},
   "outputs": [],
   "source": []
  }
 ],
 "metadata": {
  "kernelspec": {
   "display_name": "Python 3.9.13 ('OR')",
   "language": "python",
   "name": "python3"
  },
  "language_info": {
   "codemirror_mode": {
    "name": "ipython",
    "version": 3
   },
   "file_extension": ".py",
   "mimetype": "text/x-python",
   "name": "python",
   "nbconvert_exporter": "python",
   "pygments_lexer": "ipython3",
   "version": "3.9.13"
  },
  "orig_nbformat": 4,
  "vscode": {
   "interpreter": {
    "hash": "703c582e1082fcb0db16a7df179a13488ad224a985681ad6ccdd0be6bf62cd2b"
   }
  }
 },
 "nbformat": 4,
 "nbformat_minor": 2
}
