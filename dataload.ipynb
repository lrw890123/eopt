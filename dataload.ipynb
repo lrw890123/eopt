{
 "cells": [
  {
   "cell_type": "code",
   "execution_count": null,
   "metadata": {},
   "outputs": [],
   "source": [
    "import numpy as np\n",
    "from dataload import Dataload"
   ]
  },
  {
   "cell_type": "code",
   "execution_count": null,
   "metadata": {},
   "outputs": [],
   "source": [
    "instance = Dataload(\"./data/\")\n",
    "nums_sys, nums_equip, nums_crews, dep = instance.get_size(\"size.txt\")\n",
    "coordinates = instance.get_coordinates(\"The_coordinates_of_the_node.txt\")\n",
    "systems_composition = instance.get_systemcomposition(\"The_composition_of_the_system_unit .txt\")\n",
    "capabilities = instance.get_capabilities(\"The_capabilities_of_the_system.txt\")\n",
    "repair_time = instance.get_repairtime(\"The_repair_time_of_equipment.txt\")\n"
   ]
  },
  {
   "cell_type": "code",
   "execution_count": 3,
   "metadata": {},
   "outputs": [
    {
     "data": {
      "text/plain": [
       "array([[26.4, 87.6],\n",
       "       [23.5, 91.9],\n",
       "       [23.5, 93.6],\n",
       "       [34.6, 70.5],\n",
       "       [40.5, 65.2],\n",
       "       [48.6, 19.3],\n",
       "       [58.5, 21.1],\n",
       "       [57.2, 24.5],\n",
       "       [72.2, 75.1],\n",
       "       [21.7, 44.2],\n",
       "       [24.6, 51.3],\n",
       "       [27.2, 39.6],\n",
       "       [22.8, 22.5],\n",
       "       [89.5, 90.9],\n",
       "       [95.7, 90.6],\n",
       "       [96.8, 83.5],\n",
       "       [78.4, 28.9],\n",
       "       [60.7, 80.8],\n",
       "       [62.7, 90.1],\n",
       "       [45.7, 51.4],\n",
       "       [77.5, 28.1],\n",
       "       [ 4.5, 34.6],\n",
       "       [38.5, 48.2],\n",
       "       [71.2, 64.5],\n",
       "       [49.4, 77.9]])"
      ]
     },
     "execution_count": 3,
     "metadata": {},
     "output_type": "execute_result"
    }
   ],
   "source": []
  },
  {
   "cell_type": "code",
   "execution_count": null,
   "metadata": {},
   "outputs": [],
   "source": []
  },
  {
   "cell_type": "code",
   "execution_count": null,
   "metadata": {},
   "outputs": [],
   "source": []
  },
  {
   "cell_type": "code",
   "execution_count": null,
   "metadata": {},
   "outputs": [],
   "source": []
  }
 ],
 "metadata": {
  "kernelspec": {
   "display_name": "Python 3.9.13 ('OR')",
   "language": "python",
   "name": "python3"
  },
  "language_info": {
   "codemirror_mode": {
    "name": "ipython",
    "version": 3
   },
   "file_extension": ".py",
   "mimetype": "text/x-python",
   "name": "python",
   "nbconvert_exporter": "python",
   "pygments_lexer": "ipython3",
   "version": "3.9.13"
  },
  "orig_nbformat": 4,
  "vscode": {
   "interpreter": {
    "hash": "b35518d57fbdb8b9b21f9fa109dde02839ba57632e1dfe44ec672e46ea2d5380"
   }
  }
 },
 "nbformat": 4,
 "nbformat_minor": 2
}
